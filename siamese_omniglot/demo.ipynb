{
 "cells": [
  {
   "cell_type": "code",
   "execution_count": 7,
   "metadata": {},
   "outputs": [],
   "source": [
    "import os\n",
    "import argparse\n",
    "\n",
    "import torch\n",
    "import torch.nn as nn\n",
    "import torch.nn.functional as F\n",
    "import torch.optim as optim\n",
    "import torchvision.datasets as datasets\n",
    "from torch.utils.data import DataLoader\n",
    "import torchvision\n",
    "from torchvision.transforms.transforms import ToTensor\n",
    "\n",
    "from models.model import My_siamese\n",
    "from utils.utils import increment_path\n",
    "from pathlib import Path\n",
    "\n",
    "from tqdm import tqdm\n",
    "import wandb\n",
    "\n",
    "import cv2\n",
    "import numpy as np\n",
    "import matplotlib.pyplot as plt\n",
    "\n",
    "from dataset.reconstruct import prepare_data\n",
    "from dataset.loader import train_validation_loader\n",
    "from dataset.loader import testset_loader"
   ]
  },
  {
   "cell_type": "markdown",
   "metadata": {},
   "source": [
    "# Siamese model & Load"
   ]
  },
  {
   "cell_type": "code",
   "execution_count": 5,
   "metadata": {},
   "outputs": [
    {
     "data": {
      "text/plain": [
       "<All keys matched successfully>"
      ]
     },
     "execution_count": 5,
     "metadata": {},
     "output_type": "execute_result"
    }
   ],
   "source": [
    "\n",
    "net = My_siamese().cuda()\n",
    "loss_fn = nn.BCEWithLogitsLoss()\n",
    "optimizer = optim.Adam(net.parameters(), lr=0.0005)\n",
    "\n",
    "load = torch.load(\"./tutorial/siamese_omniglot_cnn/omniglot_cnn_best.pt\")\n",
    "net.load_state_dict(load[\"model\"])"
   ]
  },
  {
   "cell_type": "markdown",
   "metadata": {},
   "source": [
    "# Data reconstruct & load"
   ]
  },
  {
   "cell_type": "code",
   "execution_count": 4,
   "metadata": {},
   "outputs": [],
   "source": [
    "data_dir = os.path.join(\"data\")\n",
    "datasets.Omniglot(data_dir, background=True, download=True, transform=ToTensor())\n",
    "datasets.Omniglot(data_dir, background=False, download=True, transform=ToTensor())\n",
    "\n",
    "train_dir, val_dir, test_dir = prepare_data(data_dir, seed=3)\n",
    "train_loader, val_loader = train_validation_loader(train_dir, val_dir, batch_size=8, augment=False, candi=5, shuffle=True, seed=3, num_workers=8)"
   ]
  },
  {
   "cell_type": "markdown",
   "metadata": {},
   "source": [
    "# Trainging (once)"
   ]
  },
  {
   "cell_type": "code",
   "execution_count": 8,
   "metadata": {},
   "outputs": [
    {
     "name": "stderr",
     "output_type": "stream",
     "text": [
      "100%|██████████| 2398/2398 [01:18<00:00, 30.38it/s]"
     ]
    },
    {
     "name": "stdout",
     "output_type": "stream",
     "text": [
      "Train_loss tensor(0.0662, device='cuda:0', grad_fn=<DivBackward0>)\n",
      "Train_accuracy tensor(0.9775, device='cuda:0')\n"
     ]
    },
    {
     "name": "stderr",
     "output_type": "stream",
     "text": [
      "\n"
     ]
    }
   ],
   "source": [
    "net.train()\n",
    "train_loss = 0\n",
    "train_acc = 0\n",
    "\n",
    "for i, (img1, img2, label) in tqdm(enumerate(train_loader), total=len(train_loader)):\n",
    "\n",
    "    output = net(img1.cuda(), img2.cuda())\n",
    "    loss = loss_fn(output, label.cuda())\n",
    "\n",
    "    optimizer.zero_grad()\n",
    "    loss.backward()\n",
    "    optimizer.step()\n",
    "\n",
    "    train_loss += loss\n",
    "\n",
    "    TP_mask = torch.logical_and(output>0, label.cuda()==1)\n",
    "    TN_mask = torch.logical_and(output<0, label.cuda()==0)\n",
    "    train_acc += (torch.sum(TP_mask) + torch.sum(TN_mask))/img1.shape[0]\n",
    "\n",
    "train_loss /= len(train_loader)\n",
    "train_acc /= len(train_loader)\n",
    "print(\"Train_loss\", train_loss)\n",
    "print(\"Train_accuracy\", train_acc)\n",
    "\n"
   ]
  },
  {
   "cell_type": "markdown",
   "metadata": {},
   "source": [
    "# Validation\n",
    "* torch_to_cv2 : convert torch to numpy \n",
    "* put_result : put the text which contain label and prediction "
   ]
  },
  {
   "cell_type": "code",
   "execution_count": 10,
   "metadata": {},
   "outputs": [],
   "source": [
    "def torch_to_cv2(imgs):\n",
    "\n",
    "    for i, img in enumerate(imgs):\n",
    "\n",
    "        img = img.cpu()\n",
    "        img = img.numpy().transpose(1,2,0)\n",
    "        img = (img -img.min())/(img.max()-img.min())*255\n",
    "\n",
    "        if i ==0:\n",
    "            cv_img = img\n",
    "        else : \n",
    "            cv_img = np.concatenate((cv_img, img), axis=1)\n",
    "\n",
    "    return cv_img\n",
    "\n",
    "def put_result(img, similar, label, candi):\n",
    "\n",
    "    split = candi + 1\n",
    "\n",
    "    w = img.shape[1]//split\n",
    "\n",
    "    for i in range(split):\n",
    "        \n",
    "        if i ==0:\n",
    "            cv2.putText(img, \"Template\", (w//4, 15), cv2.FONT_HERSHEY_SIMPLEX, 0.4, 0,2)\n",
    "        else : \n",
    "            s = similar[i-1].item()\n",
    "            l = int(label[i-1].item())\n",
    "            cv2.putText(img, f\"Result : {s:.2f}\", (w//9 + w*i, 100), cv2.FONT_HERSHEY_SIMPLEX, 0.4, 0,2)\n",
    "            cv2.putText(img, f\"Label : {int(l)}\", (w//4 + w*i, 15), cv2.FONT_HERSHEY_SIMPLEX, 0.4, 0,2)\n",
    "\n",
    "    return img   "
   ]
  },
  {
   "cell_type": "code",
   "execution_count": 19,
   "metadata": {},
   "outputs": [
    {
     "name": "stderr",
     "output_type": "stream",
     "text": [
      "100%|██████████| 1256/1256 [00:08<00:00, 145.20it/s]"
     ]
    },
    {
     "name": "stdout",
     "output_type": "stream",
     "text": [
      "Val_loss tensor(0.2055, device='cuda:0')\n",
      "Val_accuracy tensor(0.9347, device='cuda:0')\n"
     ]
    },
    {
     "name": "stderr",
     "output_type": "stream",
     "text": [
      "\n"
     ]
    }
   ],
   "source": [
    "net.eval()\n",
    "val_loss = 0\n",
    "val_acc = 0\n",
    "val_imgs = []\n",
    "\n",
    "with torch.no_grad():    \n",
    "    for i, (img1, img2, label) in tqdm(enumerate(val_loader), total=len(val_loader)):\n",
    "\n",
    "        output = net(img1.cuda(), img2.cuda())\n",
    "        loss = loss_fn(output, label.cuda())\n",
    "\n",
    "        val_loss += loss\n",
    "\n",
    "        # Accuracy\n",
    "        TP_mask = torch.logical_and(output>0, label.cuda()==1)\n",
    "        TN_mask = torch.logical_and(output<0, label.cuda()==0)\n",
    "        val_acc += (torch.sum(TP_mask) + torch.sum(TN_mask))/img1.shape[0]\n",
    "\n",
    "\n",
    "        if (i+1) % (len(val_loader)//5) == 0 or i == (len(val_loader) -1):\n",
    "\n",
    "            pred_img = torch.cat((img1[0].unsqueeze(0),img2))\n",
    "\n",
    "            pred_img_cv = torch_to_cv2(pred_img)\n",
    "            result_img = put_result(pred_img_cv, output, label, img1.shape[0])\n",
    "\n",
    "            val_imgs.append(result_img)\n",
    "\n",
    "    val_loss /= len(val_loader)\n",
    "    val_acc /= len(val_loader)\n",
    "    print(\"Val_loss\", val_loss)\n",
    "    print(\"Val_accuracy\", val_acc)\n"
   ]
  },
  {
   "cell_type": "code",
   "execution_count": 25,
   "metadata": {},
   "outputs": [
    {
     "data": {
      "text/plain": [
       "<matplotlib.image.AxesImage at 0x7f7967d6eb80>"
      ]
     },
     "execution_count": 25,
     "metadata": {},
     "output_type": "execute_result"
    },
    {
     "data": {
      "image/png": "[encoded data removed]",
      "text/plain": [
       "<Figure size 432x288 with 1 Axes>"
      ]
     },
     "metadata": {
      "needs_background": "light"
     },
     "output_type": "display_data"
    }
   ],
   "source": [
    "plt.imshow(val_imgs[0])"
   ]
  },
  {
   "cell_type": "markdown",
   "metadata": {},
   "source": [
    "# Test"
   ]
  },
  {
   "cell_type": "code",
   "execution_count": 15,
   "metadata": {},
   "outputs": [
    {
     "name": "stderr",
     "output_type": "stream",
     "text": [
      "100%|██████████| 1400/1400 [00:09<00:00, 145.13it/s]"
     ]
    },
    {
     "name": "stdout",
     "output_type": "stream",
     "text": [
      "Test_loss tensor(0.2172, device='cuda:0')\n",
      "Test_accuracy tensor(0.9171, device='cuda:0')\n"
     ]
    },
    {
     "name": "stderr",
     "output_type": "stream",
     "text": [
      "\n"
     ]
    }
   ],
   "source": [
    "test_loader = testset_loader(test_dir, candi=5, seed=3, num_workers=2)\n",
    "\n",
    "test_loss = 0\n",
    "test_acc = 0\n",
    "test_imgs = []\n",
    "\n",
    "with torch.no_grad():    \n",
    "    for i, (img1, img2, label) in tqdm(enumerate(test_loader), total=len(test_loader)):\n",
    "\n",
    "        output = net(img1.cuda(), img2.cuda())\n",
    "        loss = loss_fn(output, label.cuda())\n",
    "\n",
    "        test_loss += loss\n",
    "\n",
    "        # Accuracy\n",
    "        TP_mask = torch.logical_and(output>0, label.cuda()==1)\n",
    "        TN_mask = torch.logical_and(output<0, label.cuda()==0)\n",
    "        test_acc += (torch.sum(TP_mask) + torch.sum(TN_mask))/img1.shape[0]\n",
    "\n",
    "\n",
    "        if (i+1) % (len(test_loader)//5) == 0 or i == (len(test_loader) -1):\n",
    "\n",
    "            pred_img = torch.cat((img1[0].unsqueeze(0),img2))\n",
    "\n",
    "            pred_img_cv = torch_to_cv2(pred_img)\n",
    "            result_img = put_result(pred_img_cv, output, label, img1.shape[0])\n",
    "\n",
    "            test_imgs.append(wandb.Image(result_img))\n",
    "\n",
    "    test_loss /= len(test_loader)\n",
    "    test_acc /= len(test_loader)\n",
    "    print(\"Test_loss\", test_loss)\n",
    "    print(\"Test_accuracy\", test_acc)\n"
   ]
  }
 ],
 "metadata": {
  "interpreter": {
   "hash": "3b37dd87958159f351f9aa495d9e283d37dc0d2b6a9ade28b1dd9884a16ed8b6"
  },
  "kernelspec": {
   "display_name": "Python 3.8.11 64-bit ('track': conda)",
   "name": "python3"
  },
  "language_info": {
   "codemirror_mode": {
    "name": "ipython",
    "version": 3
   },
   "file_extension": ".py",
   "mimetype": "text/x-python",
   "name": "python",
   "nbconvert_exporter": "python",
   "pygments_lexer": "ipython3",
   "version": "3.8.11"
  },
  "orig_nbformat": 4
 },
 "nbformat": 4,
 "nbformat_minor": 2
}
